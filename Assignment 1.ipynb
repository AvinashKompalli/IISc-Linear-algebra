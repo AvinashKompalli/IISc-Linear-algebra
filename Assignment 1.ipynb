{
  "cells": [
    {
      "cell_type": "code",
      "source": [
        "import numpy as np\n",
        "\n",
        "# Given matrix A\n",
        "A = np.array([[1, 2, 0, 2, 1],\n",
        "              [3, 6, 1, 9, 6],\n",
        "              [2, 4, 1, 7, 5]])\n",
        "U, S, Vt = np.linalg.svd(A)\n",
        "\n"
      ],
      "metadata": {
        "id": "lyahGRBvAG1m"
      },
      "id": "lyahGRBvAG1m",
      "execution_count": 1,
      "outputs": []
    },
    {
      "cell_type": "code",
      "source": [
        "print(S)"
      ],
      "metadata": {
        "colab": {
          "base_uri": "https://localhost:8080/"
        },
        "id": "AoJ769KcAk2K",
        "outputId": "0a1173e1-7bd6-42ef-f912-0068408802a0"
      },
      "id": "AoJ769KcAk2K",
      "execution_count": 6,
      "outputs": [
        {
          "output_type": "stream",
          "name": "stdout",
          "text": [
            "[16.33322517  1.10713843  0.        ]\n"
          ]
        }
      ]
    },
    {
      "cell_type": "code",
      "source": [
        "rank = np.sum(S > 1e-10)\n",
        "print(rank)"
      ],
      "metadata": {
        "colab": {
          "base_uri": "https://localhost:8080/"
        },
        "id": "_--q4T__ATqK",
        "outputId": "6a33a247-5a80-4a8b-934c-d449c4a53390"
      },
      "id": "_--q4T__ATqK",
      "execution_count": 7,
      "outputs": [
        {
          "output_type": "stream",
          "name": "stdout",
          "text": [
            "2\n"
          ]
        }
      ]
    },
    {
      "cell_type": "code",
      "source": [
        "basis_col_space = U[:, :rank]\n",
        "n = A.shape[1]\n",
        "basis_null_space = Vt[rank:, :].T\n",
        "basis_row_space = Vt[:rank, :].T\n",
        "m = A.shape[0]\n",
        "basis_left_null_space = U[:, rank:]\n"
      ],
      "metadata": {
        "id": "cMzKflx6AYgG"
      },
      "id": "cMzKflx6AYgG",
      "execution_count": 4,
      "outputs": []
    },
    {
      "cell_type": "code",
      "source": [
        "print(\"Rank of A:\", rank)\n",
        "print(\"Basis for column space:\\n\", basis_col_space)\n",
        "print(\"Basis for null space:\\n\", basis_null_space)\n",
        "print(\"Basis for row space:\\n\", basis_row_space)\n",
        "print(\"Basis for left null space:\\n\", basis_left_null_space)"
      ],
      "metadata": {
        "colab": {
          "base_uri": "https://localhost:8080/"
        },
        "id": "7HkADSxqAaal",
        "outputId": "8b72ff9c-5c4c-44d3-a41a-e40e12b8651b"
      },
      "id": "7HkADSxqAaal",
      "execution_count": 5,
      "outputs": [
        {
          "output_type": "stream",
          "name": "stdout",
          "text": [
            "Rank of A: 2\n",
            "Basis for column space:\n",
            " [[-0.18595863  0.7950384 ]\n",
            " [-0.78150277  0.2364743 ]\n",
            " [-0.59554413 -0.5585641 ]]\n",
            "Basis for null space:\n",
            " [[-0.07707193 -0.75827202 -0.4947439 ]\n",
            " [ 0.26585773  0.13010215  0.46383768]\n",
            " [ 0.93512799 -0.10590067 -0.15025835]\n",
            " [-0.14293421  0.46276749 -0.48301757]\n",
            " [-0.16877512 -0.42746727  0.53310369]]\n",
            "Basis for row space:\n",
            " [[-0.22785183  0.34985064]\n",
            " [-0.45570365  0.69970128]\n",
            " [-0.08430955 -0.29092098]\n",
            " [-0.70863231 -0.17306167]\n",
            " [-0.48078048 -0.52291231]]\n",
            "Basis for left null space:\n",
            " [[ 0.57735027]\n",
            " [-0.57735027]\n",
            " [ 0.57735027]]\n"
          ]
        }
      ]
    },
    {
      "cell_type": "code",
      "source": [],
      "metadata": {
        "id": "3NAbpIvnAgN2"
      },
      "id": "3NAbpIvnAgN2",
      "execution_count": null,
      "outputs": []
    }
  ],
  "metadata": {
    "kernelspec": {
      "display_name": "Python 3",
      "name": "python3"
    },
    "language_info": {
      "name": "python"
    },
    "required_libs": [],
    "colab": {
      "provenance": []
    }
  },
  "nbformat": 4,
  "nbformat_minor": 5
}